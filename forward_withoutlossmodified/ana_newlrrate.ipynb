{
  "nbformat": 4,
  "nbformat_minor": 0,
  "metadata": {
    "colab": {
      "name": "ana_newlrrate.ipynb",
      "provenance": []
    },
    "kernelspec": {
      "display_name": "Python 3",
      "name": "python3"
    },
    "language_info": {
      "name": "python"
    }
  },
  "cells": [
    {
      "cell_type": "code",
      "metadata": {
        "colab": {
          "base_uri": "https://localhost:8080/"
        },
        "id": "GyLSg9e6KilU",
        "outputId": "364a54e7-1fcb-4dac-bdc2-26c145160e71"
      },
      "source": [
        "from google.colab import drive\n",
        "drive.mount('drive')"
      ],
      "execution_count": 1,
      "outputs": [
        {
          "output_type": "stream",
          "name": "stdout",
          "text": [
            "Mounted at drive\n"
          ]
        }
      ]
    },
    {
      "cell_type": "code",
      "metadata": {
        "colab": {
          "base_uri": "https://localhost:8080/"
        },
        "id": "5zee5q7VLhLA",
        "outputId": "f5c0a0e5-ff20-4500-fd27-fda42d240d27"
      },
      "source": [
        "!pip install simplejson\n",
        "!pip install pyyaml h5py"
      ],
      "execution_count": 2,
      "outputs": [
        {
          "output_type": "stream",
          "name": "stdout",
          "text": [
            "Collecting simplejson\n",
            "  Downloading simplejson-3.17.6-cp37-cp37m-manylinux_2_5_x86_64.manylinux1_x86_64.manylinux_2_12_x86_64.manylinux2010_x86_64.whl (130 kB)\n",
            "\u001b[?25l\r\u001b[K     |██▌                             | 10 kB 17.1 MB/s eta 0:00:01\r\u001b[K     |█████                           | 20 kB 20.7 MB/s eta 0:00:01\r\u001b[K     |███████▌                        | 30 kB 16.5 MB/s eta 0:00:01\r\u001b[K     |██████████                      | 40 kB 12.2 MB/s eta 0:00:01\r\u001b[K     |████████████▋                   | 51 kB 6.7 MB/s eta 0:00:01\r\u001b[K     |███████████████                 | 61 kB 7.9 MB/s eta 0:00:01\r\u001b[K     |█████████████████▋              | 71 kB 7.2 MB/s eta 0:00:01\r\u001b[K     |████████████████████▏           | 81 kB 5.9 MB/s eta 0:00:01\r\u001b[K     |██████████████████████▋         | 92 kB 6.5 MB/s eta 0:00:01\r\u001b[K     |█████████████████████████▏      | 102 kB 7.2 MB/s eta 0:00:01\r\u001b[K     |███████████████████████████▋    | 112 kB 7.2 MB/s eta 0:00:01\r\u001b[K     |██████████████████████████████▏ | 122 kB 7.2 MB/s eta 0:00:01\r\u001b[K     |████████████████████████████████| 130 kB 7.2 MB/s \n",
            "\u001b[?25hInstalling collected packages: simplejson\n",
            "Successfully installed simplejson-3.17.6\n",
            "Requirement already satisfied: pyyaml in /usr/local/lib/python3.7/dist-packages (3.13)\n",
            "Requirement already satisfied: h5py in /usr/local/lib/python3.7/dist-packages (3.1.0)\n",
            "Requirement already satisfied: cached-property in /usr/local/lib/python3.7/dist-packages (from h5py) (1.5.2)\n",
            "Requirement already satisfied: numpy>=1.14.5 in /usr/local/lib/python3.7/dist-packages (from h5py) (1.21.5)\n"
          ]
        }
      ]
    },
    {
      "cell_type": "code",
      "metadata": {
        "colab": {
          "base_uri": "https://localhost:8080/",
          "height": 283
        },
        "id": "XB1V3NUPLmwd",
        "outputId": "637ed13b-e8be-4ede-de47-10fa248ecf59"
      },
      "source": [
        "import numpy as np\n",
        "import pandas as pd\n",
        "import matplotlib.pyplot as plt\n",
        "from tensorflow.keras.models import load_model\n",
        "## Everything else is fixed other than omega is changing\n",
        "import keras.losses\n",
        "def my_loss_fn(y_true, y_pred):\n",
        "    y_true_0 = y_true[0]\n",
        "    y_pred_0 = y_pred[0]\n",
        "    print('y_true_0 is: ' + str(y_true_0))\n",
        "    print('y_pred_0 is: ' + str(y_pred_0))\n",
        "    y_true_rest = y_true[1:]\n",
        "    y_pred_rest = y_pred[1:]\n",
        "    # mseloss = np.mean(np.abs(y_true_rest - y_pred_rest), axis=-1)\n",
        "    maeloss = keras.metrics.mean_absolute_error(y_true_rest, y_pred_rest)\n",
        "    zero_loss = keras.losses.mean_absolute_error(y_true_0,y_pred_0)\n",
        "    return maeloss + zero_loss  # Note the `axis=-1`\n",
        "keras.losses.my_loss_fn = my_loss_fn\n",
        "N = 12 # output column\n",
        "mu = 1 #viscosity\n",
        "\n",
        "\n",
        "# model = load_model('/content/drive/MyDrive/inversepaper/resultsci06/newlrrate/init2_newloss_adamno0_select1w_5layer_mae/model_init2_newloss_adamno0_select1w_5layer_mae')\n",
        "# df =  pd.read_csv(\"/content/drive/MyDrive/inversepaper/resultsci03/newloss_adamno0_select1w_5layer_mae/testingset.csv\")\n",
        "\n",
        "# model = load_model('/content/drive/MyDrive/inversepaper/resultsci06/newlrrate/lr1_init_newloss_adamno0_select1w_5layer_mae/model_lr1_init_newloss_adamno0_select1w_5layer_mae')\n",
        "# df =  pd.read_csv(\"/content/drive/MyDrive/inversepaper/resultsci03/newloss_adamno0_select1w_5layer_mape/testingset.csv\")\n",
        "\n",
        "# model = load_model('/content/drive/MyDrive/inversepaper/resultsci06/newlrrate/lr2_init_newloss_adamno0_select1w_5layer_mae/model_lr2_init_newloss_adamno0_select1w_5layer_mae')\n",
        "# df =  pd.read_csv(\"/content/drive/MyDrive/inversepaper/resultsci06/newloss_adamno0_select1w_3laye50_mae/testingset.csv\")\n",
        "\n",
        "# model = load_model('/content/drive/MyDrive/inversepaper/resultsci06/newlrrate/lr3_init_newloss_adamno0_select1w_5layer_mae/model_lr3_init_newloss_adamno0_select1w_5layer_mae')\n",
        "model = load_model('/content/drive/MyDrive/inversepaper/resultsci06/init_adamno0_select1w_5layer_mae/model_init_adamno0_select1w_5layer_mae')\n",
        "\n",
        "# df =  pd.read_csv(\"/content/drive/MyDrive/inversepaper/resultsci06/newloss_adamno0_select1w_3layer50_mape/testingset.csv\")\n",
        "\n",
        "\n",
        "\n",
        "# model = load_model('/content/drive/MyDrive/inversepaper/resultsci06/init_adamno0_select1w_5layer_mae/model_init_adamno0_select1w_5layer_mae')\n",
        "# model = load_model('/content/drive/MyDrive/inversepaper/resultsci06/init_newloss_adamno0_select1w_5layer_mae/model_init_newloss_adamno0_select1w_5layer_mae')\n",
        "df =  pd.read_csv(\"/content/drive/MyDrive/GAN!/2tails_Sim.csv\")\n",
        "df.columns = ['col1','col2','col3','col4','col5','col6','col7','col8','col9','col10','col11','col12','col13','col14'] \n",
        "x = df[['col1','col2','col3','col4','col5','col6','col7','col8','col9','col10','col11','col12','col13','col14']]\n",
        "xinput = df[['col1','col2','col3','col4','col5','col6','col7','col8']]\n",
        "xoutput = df[['col10','col11','col12','col13','col14']]\n",
        "# print(np.array(xoutput))\n",
        "xinput = np.array(xinput)\n",
        "\n",
        "\n",
        "# print(xoutput)\n",
        "x = np.array(x)\n",
        "x9 = df['col9']#omegahead\n",
        "x9 = abs(np.array(x9)) \n",
        "x9 = np.reshape(x9, (x9.shape[0], 1))\n",
        "# print(x9)\n",
        "# print(x9.shape, np.array(xoutput).shape)\n",
        "xoutput = np.hstack((x9, np.array(xoutput)))\n",
        "# print(xoutput)\n",
        "\n",
        "\n",
        "#print(xinput.shape[0])#checked\n",
        "xnew = np.hstack((xinput, xoutput))\n",
        "L = xnew[:, 3] # tail length\n",
        "R = xnew[:, 4] # head radius\n",
        "r0 = xnew[:, 6] # tail radius\n",
        "x4 = L/R # element-wise division, checked\n",
        "x5 = L/r0\n",
        "eta_per = 4*np.pi*1/(np.log(2*x5) + 1/2)\n",
        "EI = 1e6*np.pi*r0**4/4\n",
        "x6 = xnew[:, 7]*eta_per*L**4/EI\n",
        "\n",
        "x4 = np.reshape(x4,(x4.shape[0],1))\n",
        "x5 = np.reshape(x5,(x5.shape[0],1))\n",
        "x6 = np.reshape(x6,(x6.shape[0],1))\n",
        "xTest = xnew[:,:8]\n",
        "# xTest = xnew[2048:2050,:8]\n",
        "# ydata2 = xnew[:,12]*eta_per*L**3/EI\n",
        "ydata2 = xnew[:,12]\n",
        "ydata = ydata2\n",
        "# ydata = ydata2[2048:2050]\n",
        "# mean1 = [3.651398421760726,5.289068515169595,5.751596090270298,0.1612205948288821,0.00706235241368952,0.00706235241368952,0.0050223068300700125,11.206217216410025]\n",
        "# std1 = [2.8655889557754457,2.2908146824454234,2.4719356011305593,0.06920106313714194,0.0029544549465576257,0.0029544549465576257,0.0006082550171647763,4.261716068902644]\n",
        "mean1 = [3.6658892811240653,5.286323461365989,5.742730397548711,0.16139545957256696,0.007073615304139328,0.007073615304139328,0.005015410999850301,11.231110748766987]\n",
        "std1 = [2.874276942002812,2.292658580568462,2.4681745580488244,0.06931804522601889,0.002956433969369665,0.002956433969369665,0.0006077779680107997,4.267191087068092]\n",
        "\n",
        "#Preprocess the test data: normalization\n",
        "xTest -= mean1 #mean1 is the average of each column of original training data \n",
        "xTest /= std1\n",
        "\n",
        "##Only need v_bar(x11) VS. omega_bar(x6)\n",
        "yTestTrueVal = ydata\n",
        "# yTestTrueVal = testData[:,10]*eta_per*L**4/EI\n",
        "ypred = model.predict(xTest)\n",
        "ypred = np.array(ypred[:,0])\n",
        "## Sort the omega_bar to plot nicely\n",
        "testTrue = np.hstack(((xTest[:,7].reshape(xTest[:,7].shape[0],1)), yTestTrueVal.reshape(yTestTrueVal.shape[0],1)))\n",
        "testPred = np.hstack(((xTest[:,7].reshape(xTest[:,7].shape[0],1)),ypred.reshape(yTestTrueVal.shape[0],1)))\n",
        "testTrue_reorf = testTrue[testTrue[:,0].argsort()]\n",
        "testPred_reorf = testPred[testPred[:,0].argsort()]\n",
        "\n",
        "plt.plot(testPred_reorf[7:75,0], testPred_reorf[7:75,1], 'ro')\n",
        "plt.plot(testTrue_reorf[7:75,0], testTrue_reorf[7:75,1], 'bx')\n"
      ],
      "execution_count": 5,
      "outputs": [
        {
          "output_type": "execute_result",
          "data": {
            "text/plain": [
              "[<matplotlib.lines.Line2D at 0x7f9367296dd0>]"
            ]
          },
          "metadata": {},
          "execution_count": 5
        },
        {
          "output_type": "display_data",
          "data": {
            "text/plain": [
              "<Figure size 432x288 with 1 Axes>"
            ],
            "image/png": "[encoded data removed]"
          },
          "metadata": {
            "needs_background": "light"
          }
        }
      ]
    }
  ]
}